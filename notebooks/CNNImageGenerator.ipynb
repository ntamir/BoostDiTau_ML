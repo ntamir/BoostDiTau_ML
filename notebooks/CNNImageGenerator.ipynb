{
 "cells": [
  {
   "cell_type": "code",
   "execution_count": null,
   "metadata": {},
   "outputs": [],
   "source": [
    "import numpy as np\n",
    "from tqdm.notebook import tqdm\n",
    "from dgl.data.utils import load_graphs\n",
    "import os\n",
    "import gc"
   ]
  },
  {
   "cell_type": "code",
   "execution_count": null,
   "metadata": {},
   "outputs": [],
   "source": [
    "def graph_to_image(graph, global_sample_num):\n",
    "    truthmatch = int(graph.nodes['global'].data['TruthMatch'])\n",
    "    \n",
    "    image_size = (3, 64, 64) # Change to desired image size\n",
    "    cell_image = np.zeros(image_size)\n",
    "    eta_arr = np.array(graph.nodes['points'].data['center'][:,0])\n",
    "    phi_arr = np.array(graph.nodes['points'].data['center'][:,1])\n",
    "    E_arr = np.array(graph.nodes['points'].data['E']) / np.array(graph.nodes['global'].data['E'])\n",
    "    types_arr = np.array(graph.nodes['points'].data['type']).astype(int)\n",
    "    \n",
    "    eta_indexed_arr = np.floor(eta_arr * (image_size[1] - 1)/2 + (image_size[1] - 1)/2).astype(int)\n",
    "    phi_indexed_arr = np.floor(phi_arr * (image_size[2] - 1)/2 + (image_size[2] - 1)/2).astype(int)\n",
    "    \n",
    "    for j in range(len(eta_arr)):\n",
    "        cell_image[types_arr[j]-2, phi_indexed_arr[j], eta_indexed_arr[j]] = E_arr[j]\n",
    "        \n",
    "    outfile_data = {}\n",
    "    outfile_data['truthmatch'] = truthmatch\n",
    "    outfile_data['cell_image'] = cell_image\n",
    "    outfile_name = './alldata' + '/sample_' + str(global_sample_num).zfill(6) + '.pkl'\n",
    "    with open(outfile_name, 'wb') as f:\n",
    "        pickle.dump(outfile_data, f)\n",
    "    gc.collect()"
   ]
  },
  {
   "cell_type": "code",
   "execution_count": null,
   "metadata": {},
   "outputs": [],
   "source": [
    "def generate_images(data_bin_file_location):    \n",
    "    #Read the bin file\n",
    "    graphs_set = load_graphs(data_bin_file_location)\n",
    "    graphs_list = graphs_set[0]\n",
    "    print(\"DONE READ\")\n",
    "    \n",
    "    #Generate the dataset from graphs list\n",
    "    for i,graph in enumerate(tqdm(graphs_list)):\n",
    "        graph_to_image(graph,i)\n",
    "    gc.collect()"
   ]
  },
  {
   "cell_type": "code",
   "execution_count": null,
   "metadata": {},
   "outputs": [],
   "source": [
    "def load_pickle(data_dir, data_file):\n",
    "    file_path = data_dir + '/' + data_file\n",
    "    with open(file_path, 'rb') as fi:\n",
    "        obj = pickle.load(fi)\n",
    "    return obj"
   ]
  },
  {
   "cell_type": "code",
   "execution_count": null,
   "metadata": {},
   "outputs": [],
   "source": [
    "def join_pickles(pickle_dir):\n",
    "    pickle_files_list = os.listdir(pickle_dir)\n",
    "    pickle_files_list.sort()\n",
    "    \n",
    "    pickle_list = []\n",
    "    \n",
    "    for filename in tqdm(pickle_files_list):\n",
    "        pickle_list.append(load_pickle(pickle_dir,filename))\n",
    "\n",
    "    gc.collect()\n",
    "\n",
    "    with open('all_samples.pkl', 'wb') as fo:\n",
    "        pickle.dump(pickle_list, fo)\n",
    "\n",
    "    gc.collect()"
   ]
  },
  {
   "cell_type": "code",
   "execution_count": null,
   "metadata": {},
   "outputs": [],
   "source": [
    "data_bin_file_name = '../dataset.bin' # change to the dataset file name and location\n",
    "\n",
    "generate_images(data_bin_file_name) # This generates several pickles, one for each event\n",
    "join_pickles('./alldata') # This puts all the events in one pickle file"
   ]
  }
 ],
 "metadata": {
  "kernelspec": {
   "display_name": "Python 3 (ipykernel)",
   "language": "python",
   "name": "python3"
  },
  "language_info": {
   "codemirror_mode": {
    "name": "ipython",
    "version": 3
   },
   "file_extension": ".py",
   "mimetype": "text/x-python",
   "name": "python",
   "nbconvert_exporter": "python",
   "pygments_lexer": "ipython3",
   "version": "3.8.18"
  }
 },
 "nbformat": 4,
 "nbformat_minor": 4
}
