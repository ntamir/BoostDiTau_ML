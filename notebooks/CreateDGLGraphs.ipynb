{
 "cells": [
  {
   "cell_type": "code",
   "execution_count": null,
   "id": "bf4bd2d1",
   "metadata": {},
   "outputs": [],
   "source": [
    "import sys\n",
    "sys.path.append(\"../dataprep\")\n",
    "from dglUtils import *"
   ]
  },
  {
   "cell_type": "code",
   "execution_count": null,
   "id": "4309ccef",
   "metadata": {},
   "outputs": [],
   "source": [
    "f1='../../../../Desktop/CERNBox/LRJgraph.csv'\n",
    "f2='../../../../Desktop/CERNBox3/LRJgraph.csv'\n",
    "p=merge_datasets(f1,f2,isGlobal=True)\n",
    "p.to_csv( \"../dataset/LRJgraph.csv\", index=False, encoding='utf-8-sig')"
   ]
  },
  {
   "cell_type": "code",
   "execution_count": null,
   "id": "0c1c4043",
   "metadata": {},
   "outputs": [],
   "source": [
    "f1='../../../../Desktop/CERNBox/tracknodes.csv'\n",
    "f2='../../../../Desktop/CERNBox3/tracknodes.csv'\n",
    "p=merge_datasets(f1,f2,isGlobal=False)\n",
    "p.to_csv( \"../dataset/tracknodes.csv\", index=False, encoding='utf-8-sig')"
   ]
  },
  {
   "cell_type": "code",
   "execution_count": null,
   "id": "d0ce02ac",
   "metadata": {},
   "outputs": [],
   "source": [
    "f1='../../../../Desktop/CERNBox/calonodes.csv'\n",
    "f2='../../../../Desktop/CERNBox3/calonodes.csv'\n",
    "p=merge_datasets(f1,f2,isGlobal=False)\n",
    "p.to_csv( \"../dataset/calonodes.csv\", index=False, encoding='utf-8-sig')"
   ]
  },
  {
   "cell_type": "code",
   "execution_count": null,
   "id": "9717f995",
   "metadata": {},
   "outputs": [],
   "source": [
    "f1='../../../../Desktop/CERNBox/subjets.csv'\n",
    "f2='../../../../Desktop/CERNBox3/subjets.csv'\n",
    "p=merge_datasets(f1,f2,isGlobal=False)\n",
    "p.to_csv( \"../dataset/subjetnodes.csv\", index=False, encoding='utf-8-sig')"
   ]
  },
  {
   "cell_type": "code",
   "execution_count": null,
   "id": "cb992763",
   "metadata": {},
   "outputs": [],
   "source": [
    "#Create dask service\n",
    "cluster = LocalCluster()\n",
    "client = Client(cluster)"
   ]
  },
  {
   "cell_type": "code",
   "execution_count": null,
   "id": "49f36c28",
   "metadata": {},
   "outputs": [],
   "source": [
    "#Create dask dataframes to hold the input csv files\n",
    "cell_df = dd.read_csv('../dataset/calonodes.csv',dtype={'graph_id': np.int64})\n",
    "track_df = dd.read_csv('../dataset/tracknodes.csv',dtype={'graph_id': np.int64})\n",
    "subjet_df = dd.read_csv('../dataset/subjetnodes.csv',dtype={'graph_id': np.int64})\n",
    "global_df = dd.read_csv('../dataset/LRJgraph.csv',dtype={'graph_id': np.int64})\n",
    "df_dict = {'cells':cell_df,'tracks':track_df,'subjets':subjet_df,'global':global_df}"
   ]
  },
  {
   "cell_type": "code",
   "execution_count": null,
   "id": "d0090ab4",
   "metadata": {},
   "outputs": [],
   "source": [
    "#Create node num dictionary for graph creation\n",
    "n_sizedict={}\n",
    "for key in df_dict.keys():\n",
    "    n_sizedict[key]=get_nNodes(df_dict[key])"
   ]
  },
  {
   "cell_type": "code",
   "execution_count": null,
   "id": "c782ecd4",
   "metadata": {},
   "outputs": [],
   "source": [
    "#Create node feature value dictionary for graph creation\n",
    "node_type_feats = {'cells': ['node_id', 'center', 'E', 'type'],\n",
    "    'tracks': ['node_id', 'center', 'E', 'D0'],\n",
    "    'subjets': ['node_id', 'center', 'E', 'TruthMatch'],\n",
    "    'global': ['node_id', 'center', 'E', 'TruthMatch']}\n",
    "n_featdict={}\n",
    "for key in node_type_feats.keys():\n",
    "    n_featdict[key]=create_node_featdict(df_dict[key],node_type_feats,ntype=key)"
   ]
  },
  {
   "cell_type": "code",
   "execution_count": null,
   "id": "5c26108d",
   "metadata": {},
   "outputs": [],
   "source": [
    "#Create the graph list (must specify at least one edge type)\n",
    "graphs = []\n",
    "data_dict = {\n",
    "    ('cells', 'cells2cells', 'cells'): ([], []),\n",
    "    ('tracks', 'tracks2tracks', 'tracks'): ([], []),\n",
    "            }\n",
    "num_graphs = len(n_sizedict['global'])\n",
    "for i in tqdm(range(num_graphs)):\n",
    "    graphs.append(create_graph(i,n_featdict=n_featdict,n_sizedict=n_sizedict,e_dict=data_dict))"
   ]
  },
  {
   "cell_type": "code",
   "execution_count": null,
   "id": "9d9a9e1f",
   "metadata": {},
   "outputs": [],
   "source": [
    "g_balanced = get_TMBalanced_dataset(graphs,randseed=234)\n",
    "len(g_balanced)"
   ]
  },
  {
   "cell_type": "code",
   "execution_count": null,
   "id": "ddead76d",
   "metadata": {},
   "outputs": [],
   "source": [
    "save_graphs(\"../dataset/DGLdataset_balanced.bin\",g_balanced)"
   ]
  },
  {
   "cell_type": "code",
   "execution_count": null,
   "id": "e40aaf6b",
   "metadata": {},
   "outputs": [],
   "source": []
  }
 ],
 "metadata": {
  "kernelspec": {
   "display_name": "Python 3 (ipykernel)",
   "language": "python",
   "name": "python3"
  },
  "language_info": {
   "codemirror_mode": {
    "name": "ipython",
    "version": 3
   },
   "file_extension": ".py",
   "mimetype": "text/x-python",
   "name": "python",
   "nbconvert_exporter": "python",
   "pygments_lexer": "ipython3",
   "version": "3.9.7"
  }
 },
 "nbformat": 4,
 "nbformat_minor": 5
}
